{
 "cells": [
  {
   "cell_type": "markdown",
   "id": "8b30e22a-f646-4907-9aa5-73374861623c",
   "metadata": {},
   "source": [
    "### Predicting car fare using linear regression"
   ]
  },
  {
   "cell_type": "code",
   "execution_count": null,
   "id": "a760c486-dd05-4391-90e1-e8caa260a837",
   "metadata": {},
   "outputs": [],
   "source": []
  }
 ],
 "metadata": {
  "kernelspec": {
   "display_name": "Python 3 (ipykernel)",
   "language": "python",
   "name": "python3"
  },
  "language_info": {
   "codemirror_mode": {
    "name": "ipython",
    "version": 3
   },
   "file_extension": ".py",
   "mimetype": "text/x-python",
   "name": "python",
   "nbconvert_exporter": "python",
   "pygments_lexer": "ipython3",
   "version": "3.11.4"
  }
 },
 "nbformat": 4,
 "nbformat_minor": 5
}
